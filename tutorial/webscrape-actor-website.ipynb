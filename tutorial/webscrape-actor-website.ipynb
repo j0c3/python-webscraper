{
 "cells": [
  {
   "source": [
    "# Example:\n",
    "### Scraping information from a website.\n",
    "### Step 1.\n",
    "First we import all the tools we are going to use."
   ],
   "cell_type": "markdown",
   "metadata": {}
  },
  {
   "cell_type": "code",
   "execution_count": 1,
   "metadata": {},
   "outputs": [],
   "source": [
    "import pandas as pd\n",
    "import requests, re\n",
    "import bs4\n",
    "from bs4 import BeautifulSoup\n",
    "import numpy as np\n",
    "import time \n",
    "from time import sleep\n",
    "from random import randint\n",
    "from pandas import json_normalize\n",
    "import nltk\n",
    "# nltk.download() #this opens up a gui, uncomment on your first run"
   ]
  },
  {
   "cell_type": "code",
   "execution_count": 2,
   "metadata": {},
   "outputs": [],
   "source": [
    "from nltk.corpus import stopwords"
   ]
  },
  {
   "source": [
    "### Step 2: Import dataset\n",
    "We are interested in the ethnicities of actors from a specific dataset. Now we import our actors dataset(previously cleaned) as actors.\n",
    "If your dataset is already clean then skip down to step 3. \n",
    "\n",
    "Or you can import my cleaned dataset with\n",
    "> actors = pd.read_csv('actors.csv').\n"
   ],
   "cell_type": "markdown",
   "metadata": {}
  },
  {
   "source": [
    "### Clean up (OPTIONAL)"
   ],
   "cell_type": "markdown",
   "metadata": {}
  },
  {
   "cell_type": "code",
   "execution_count": 3,
   "metadata": {},
   "outputs": [
    {
     "output_type": "execute_result",
     "data": {
      "text/plain": [
       "  imdb_name_id             name               birth_name  height  \\\n",
       "0    nm0000001     Fred Astaire  Frederic Austerlitz Jr.   177.0   \n",
       "1    nm0000002    Lauren Bacall        Betty Joan Perske   174.0   \n",
       "2    nm0000003  Brigitte Bardot          Brigitte Bardot   166.0   \n",
       "3    nm0000004     John Belushi        John Adam Belushi   170.0   \n",
       "4    nm0000005   Ingmar Bergman     Ernst Ingmar Bergman   179.0   \n",
       "\n",
       "                                                 bio  \\\n",
       "0  Fred Astaire was born in Omaha, Nebraska, to J...   \n",
       "1  Lauren Bacall was born Betty Joan Perske on Se...   \n",
       "2  Brigitte Bardot was born on September 28, 1934...   \n",
       "3  John Belushi was born in Chicago, Illinois, US...   \n",
       "4  Ernst Ingmar Bergman was born July 14, 1918, t...   \n",
       "\n",
       "                                       birth_details date_of_birth  \\\n",
       "0               May 10, 1899 in Omaha, Nebraska, USA    1899-05-10   \n",
       "1  September 16, 1924 in The Bronx, New York City...    1924-09-16   \n",
       "2                September 28, 1934 in Paris, France    1934-09-28   \n",
       "3         January 24, 1949 in Chicago, Illinois, USA    1949-01-24   \n",
       "4      July 14, 1918 in Uppsala, Uppsala län, Sweden    1918-07-14   \n",
       "\n",
       "                            place_of_birth  \\\n",
       "0                     Omaha, Nebraska, USA   \n",
       "1  The Bronx, New York City, New York, USA   \n",
       "2                            Paris, France   \n",
       "3                   Chicago, Illinois, USA   \n",
       "4             Uppsala, Uppsala län, Sweden   \n",
       "\n",
       "                                       death_details date_of_death  \\\n",
       "0  June 22, 1987 in Los Angeles, California, USA ...    1987-06-22   \n",
       "1  August 12, 2014 in New York City, New York, US...    2014-08-12   \n",
       "2                                                NaN           NaN   \n",
       "3  March 5, 1982 in Hollywood, Los Angeles, Calif...    1982-03-05   \n",
       "4  July 30, 2007 in Fårö, Gotlands län, Sweden  (...    2007-07-30   \n",
       "\n",
       "                              place_of_death  \\\n",
       "0             Los Angeles, California, USA     \n",
       "1             New York City, New York, USA     \n",
       "2                                        NaN   \n",
       "3  Hollywood, Los Angeles, California, USA     \n",
       "4               Fårö, Gotlands län, Sweden     \n",
       "\n",
       "                         reason_of_death  \\\n",
       "0                              pneumonia   \n",
       "1                                 stroke   \n",
       "2                                    NaN   \n",
       "3  acute cocaine and heroin intoxication   \n",
       "4                         natural causes   \n",
       "\n",
       "                                      spouses_string  spouses  divorces  \\\n",
       "0  Robyn Smith  (27 June 1980 - 22 June 1987) (hi...        2         0   \n",
       "1  Jason Robards  (4 July 1961 - 10 September 196...        2         1   \n",
       "2  Bernard d'Ormale  (16 August 1992 - present)\\n...        4         3   \n",
       "3  Judith Belushi-Pisano  (31 December 1976 - 5 M...        1         0   \n",
       "4  Ingrid Bergman  (11 November 1971 - 20 May 199...        5         4   \n",
       "\n",
       "   spouses_with_children  children  \n",
       "0                      1         2  \n",
       "1                      2         3  \n",
       "2                      1         1  \n",
       "3                      0         0  \n",
       "4                      5         8  "
      ],
      "text/html": "<div>\n<style scoped>\n    .dataframe tbody tr th:only-of-type {\n        vertical-align: middle;\n    }\n\n    .dataframe tbody tr th {\n        vertical-align: top;\n    }\n\n    .dataframe thead th {\n        text-align: right;\n    }\n</style>\n<table border=\"1\" class=\"dataframe\">\n  <thead>\n    <tr style=\"text-align: right;\">\n      <th></th>\n      <th>imdb_name_id</th>\n      <th>name</th>\n      <th>birth_name</th>\n      <th>height</th>\n      <th>bio</th>\n      <th>birth_details</th>\n      <th>date_of_birth</th>\n      <th>place_of_birth</th>\n      <th>death_details</th>\n      <th>date_of_death</th>\n      <th>place_of_death</th>\n      <th>reason_of_death</th>\n      <th>spouses_string</th>\n      <th>spouses</th>\n      <th>divorces</th>\n      <th>spouses_with_children</th>\n      <th>children</th>\n    </tr>\n  </thead>\n  <tbody>\n    <tr>\n      <th>0</th>\n      <td>nm0000001</td>\n      <td>Fred Astaire</td>\n      <td>Frederic Austerlitz Jr.</td>\n      <td>177.0</td>\n      <td>Fred Astaire was born in Omaha, Nebraska, to J...</td>\n      <td>May 10, 1899 in Omaha, Nebraska, USA</td>\n      <td>1899-05-10</td>\n      <td>Omaha, Nebraska, USA</td>\n      <td>June 22, 1987 in Los Angeles, California, USA ...</td>\n      <td>1987-06-22</td>\n      <td>Los Angeles, California, USA</td>\n      <td>pneumonia</td>\n      <td>Robyn Smith  (27 June 1980 - 22 June 1987) (hi...</td>\n      <td>2</td>\n      <td>0</td>\n      <td>1</td>\n      <td>2</td>\n    </tr>\n    <tr>\n      <th>1</th>\n      <td>nm0000002</td>\n      <td>Lauren Bacall</td>\n      <td>Betty Joan Perske</td>\n      <td>174.0</td>\n      <td>Lauren Bacall was born Betty Joan Perske on Se...</td>\n      <td>September 16, 1924 in The Bronx, New York City...</td>\n      <td>1924-09-16</td>\n      <td>The Bronx, New York City, New York, USA</td>\n      <td>August 12, 2014 in New York City, New York, US...</td>\n      <td>2014-08-12</td>\n      <td>New York City, New York, USA</td>\n      <td>stroke</td>\n      <td>Jason Robards  (4 July 1961 - 10 September 196...</td>\n      <td>2</td>\n      <td>1</td>\n      <td>2</td>\n      <td>3</td>\n    </tr>\n    <tr>\n      <th>2</th>\n      <td>nm0000003</td>\n      <td>Brigitte Bardot</td>\n      <td>Brigitte Bardot</td>\n      <td>166.0</td>\n      <td>Brigitte Bardot was born on September 28, 1934...</td>\n      <td>September 28, 1934 in Paris, France</td>\n      <td>1934-09-28</td>\n      <td>Paris, France</td>\n      <td>NaN</td>\n      <td>NaN</td>\n      <td>NaN</td>\n      <td>NaN</td>\n      <td>Bernard d'Ormale  (16 August 1992 - present)\\n...</td>\n      <td>4</td>\n      <td>3</td>\n      <td>1</td>\n      <td>1</td>\n    </tr>\n    <tr>\n      <th>3</th>\n      <td>nm0000004</td>\n      <td>John Belushi</td>\n      <td>John Adam Belushi</td>\n      <td>170.0</td>\n      <td>John Belushi was born in Chicago, Illinois, US...</td>\n      <td>January 24, 1949 in Chicago, Illinois, USA</td>\n      <td>1949-01-24</td>\n      <td>Chicago, Illinois, USA</td>\n      <td>March 5, 1982 in Hollywood, Los Angeles, Calif...</td>\n      <td>1982-03-05</td>\n      <td>Hollywood, Los Angeles, California, USA</td>\n      <td>acute cocaine and heroin intoxication</td>\n      <td>Judith Belushi-Pisano  (31 December 1976 - 5 M...</td>\n      <td>1</td>\n      <td>0</td>\n      <td>0</td>\n      <td>0</td>\n    </tr>\n    <tr>\n      <th>4</th>\n      <td>nm0000005</td>\n      <td>Ingmar Bergman</td>\n      <td>Ernst Ingmar Bergman</td>\n      <td>179.0</td>\n      <td>Ernst Ingmar Bergman was born July 14, 1918, t...</td>\n      <td>July 14, 1918 in Uppsala, Uppsala län, Sweden</td>\n      <td>1918-07-14</td>\n      <td>Uppsala, Uppsala län, Sweden</td>\n      <td>July 30, 2007 in Fårö, Gotlands län, Sweden  (...</td>\n      <td>2007-07-30</td>\n      <td>Fårö, Gotlands län, Sweden</td>\n      <td>natural causes</td>\n      <td>Ingrid Bergman  (11 November 1971 - 20 May 199...</td>\n      <td>5</td>\n      <td>4</td>\n      <td>5</td>\n      <td>8</td>\n    </tr>\n  </tbody>\n</table>\n</div>"
     },
     "metadata": {},
     "execution_count": 3
    }
   ],
   "source": [
    "#quick clean up\n",
    "df_names = pd.read_csv('IMDb names.csv')\n",
    "df_names.head()"
   ]
  },
  {
   "cell_type": "code",
   "execution_count": 4,
   "metadata": {},
   "outputs": [
    {
     "output_type": "execute_result",
     "data": {
      "text/plain": [
       "  imdb_name_id             name         dob  \\\n",
       "0    nm0000001     Fred Astaire  1899-05-10   \n",
       "1    nm0000002    Lauren Bacall  1924-09-16   \n",
       "2    nm0000003  Brigitte Bardot  1934-09-28   \n",
       "3    nm0000004     John Belushi  1949-01-24   \n",
       "4    nm0000005   Ingmar Bergman  1918-07-14   \n",
       "\n",
       "                                       pob  \\\n",
       "0                     Omaha, Nebraska, USA   \n",
       "1  The Bronx, New York City, New York, USA   \n",
       "2                            Paris, France   \n",
       "3                   Chicago, Illinois, USA   \n",
       "4             Uppsala, Uppsala län, Sweden   \n",
       "\n",
       "                                                 bio  \n",
       "0  Fred Astaire was born in Omaha, Nebraska, to J...  \n",
       "1  Lauren Bacall was born Betty Joan Perske on Se...  \n",
       "2  Brigitte Bardot was born on September 28, 1934...  \n",
       "3  John Belushi was born in Chicago, Illinois, US...  \n",
       "4  Ernst Ingmar Bergman was born July 14, 1918, t...  "
      ],
      "text/html": "<div>\n<style scoped>\n    .dataframe tbody tr th:only-of-type {\n        vertical-align: middle;\n    }\n\n    .dataframe tbody tr th {\n        vertical-align: top;\n    }\n\n    .dataframe thead th {\n        text-align: right;\n    }\n</style>\n<table border=\"1\" class=\"dataframe\">\n  <thead>\n    <tr style=\"text-align: right;\">\n      <th></th>\n      <th>imdb_name_id</th>\n      <th>name</th>\n      <th>dob</th>\n      <th>pob</th>\n      <th>bio</th>\n    </tr>\n  </thead>\n  <tbody>\n    <tr>\n      <th>0</th>\n      <td>nm0000001</td>\n      <td>Fred Astaire</td>\n      <td>1899-05-10</td>\n      <td>Omaha, Nebraska, USA</td>\n      <td>Fred Astaire was born in Omaha, Nebraska, to J...</td>\n    </tr>\n    <tr>\n      <th>1</th>\n      <td>nm0000002</td>\n      <td>Lauren Bacall</td>\n      <td>1924-09-16</td>\n      <td>The Bronx, New York City, New York, USA</td>\n      <td>Lauren Bacall was born Betty Joan Perske on Se...</td>\n    </tr>\n    <tr>\n      <th>2</th>\n      <td>nm0000003</td>\n      <td>Brigitte Bardot</td>\n      <td>1934-09-28</td>\n      <td>Paris, France</td>\n      <td>Brigitte Bardot was born on September 28, 1934...</td>\n    </tr>\n    <tr>\n      <th>3</th>\n      <td>nm0000004</td>\n      <td>John Belushi</td>\n      <td>1949-01-24</td>\n      <td>Chicago, Illinois, USA</td>\n      <td>John Belushi was born in Chicago, Illinois, US...</td>\n    </tr>\n    <tr>\n      <th>4</th>\n      <td>nm0000005</td>\n      <td>Ingmar Bergman</td>\n      <td>1918-07-14</td>\n      <td>Uppsala, Uppsala län, Sweden</td>\n      <td>Ernst Ingmar Bergman was born July 14, 1918, t...</td>\n    </tr>\n  </tbody>\n</table>\n</div>"
     },
     "metadata": {},
     "execution_count": 4
    }
   ],
   "source": [
    "# drop height and other details, keep names and name id\n",
    "df_names = df_names[['imdb_name_id','name','date_of_birth','place_of_birth','bio']]\n",
    "df_names = df_names.rename(columns={'date_of_birth':'dob', \"place_of_birth\":'pob'})\n",
    "df_names.head()\n"
   ]
  },
  {
   "source": [
    "### For the purposes of a quick explanation, assume we only want actors born in California or Poland and born on or after 1950.\n"
   ],
   "cell_type": "markdown",
   "metadata": {}
  },
  {
   "cell_type": "code",
   "execution_count": 5,
   "metadata": {},
   "outputs": [
    {
     "output_type": "execute_result",
     "data": {
      "text/plain": [
       "2951"
      ]
     },
     "metadata": {},
     "execution_count": 5
    }
   ],
   "source": [
    "df_names=df_names.dropna() # <- not recommended but used for the purposes of my example\n",
    "desired_date = '1950-01-01'\n",
    "df_desired_names = df_names[ (df_names['dob'] >= desired_date) & (df_names['pob'].str.contains('California|Texas')) & (df_names['bio'].str.contains('actor|actress|acting|acted')   ) ]\n",
    "# df_desired_names.head()\n",
    "len(df_desired_names)"
   ]
  },
  {
   "source": [
    "#### our dataframe is still pretty big so let's just use the first 30 results and store them in a dataframe named actors.\n",
    "    "
   ],
   "cell_type": "markdown",
   "metadata": {}
  },
  {
   "cell_type": "code",
   "execution_count": 6,
   "metadata": {},
   "outputs": [
    {
     "output_type": "execute_result",
     "data": {
      "text/plain": [
       "    imdb_name_id              name         dob                            pob  \\\n",
       "96     nm0000098  Jennifer Aniston  1969-02-11  Sherman Oaks, California, USA   \n",
       "101    nm0000103      Fairuza Balk  1974-05-21   Point Reyes, California, USA   \n",
       "104    nm0000106    Drew Barrymore  1975-02-22   Culver City, California, USA   \n",
       "113    nm0000115      Nicolas Cage  1964-01-07    Long Beach, California, USA   \n",
       "124    nm0000126     Kevin Costner  1955-01-18       Lynwood, California, USA   \n",
       "\n",
       "                                                   bio  \n",
       "96   Jennifer Aniston was born in Sherman Oaks, Cal...  \n",
       "101  \"Fairuza!\" (\"Turquoise\" in Farsi), her father ...  \n",
       "104  Since melting audiences' hearts - at the age o...  \n",
       "113  Nicolas Cage was born Nicolas Kim Coppola in L...  \n",
       "124  Kevin Michael Costner was born on January 18, ...  "
      ],
      "text/html": "<div>\n<style scoped>\n    .dataframe tbody tr th:only-of-type {\n        vertical-align: middle;\n    }\n\n    .dataframe tbody tr th {\n        vertical-align: top;\n    }\n\n    .dataframe thead th {\n        text-align: right;\n    }\n</style>\n<table border=\"1\" class=\"dataframe\">\n  <thead>\n    <tr style=\"text-align: right;\">\n      <th></th>\n      <th>imdb_name_id</th>\n      <th>name</th>\n      <th>dob</th>\n      <th>pob</th>\n      <th>bio</th>\n    </tr>\n  </thead>\n  <tbody>\n    <tr>\n      <th>96</th>\n      <td>nm0000098</td>\n      <td>Jennifer Aniston</td>\n      <td>1969-02-11</td>\n      <td>Sherman Oaks, California, USA</td>\n      <td>Jennifer Aniston was born in Sherman Oaks, Cal...</td>\n    </tr>\n    <tr>\n      <th>101</th>\n      <td>nm0000103</td>\n      <td>Fairuza Balk</td>\n      <td>1974-05-21</td>\n      <td>Point Reyes, California, USA</td>\n      <td>\"Fairuza!\" (\"Turquoise\" in Farsi), her father ...</td>\n    </tr>\n    <tr>\n      <th>104</th>\n      <td>nm0000106</td>\n      <td>Drew Barrymore</td>\n      <td>1975-02-22</td>\n      <td>Culver City, California, USA</td>\n      <td>Since melting audiences' hearts - at the age o...</td>\n    </tr>\n    <tr>\n      <th>113</th>\n      <td>nm0000115</td>\n      <td>Nicolas Cage</td>\n      <td>1964-01-07</td>\n      <td>Long Beach, California, USA</td>\n      <td>Nicolas Cage was born Nicolas Kim Coppola in L...</td>\n    </tr>\n    <tr>\n      <th>124</th>\n      <td>nm0000126</td>\n      <td>Kevin Costner</td>\n      <td>1955-01-18</td>\n      <td>Lynwood, California, USA</td>\n      <td>Kevin Michael Costner was born on January 18, ...</td>\n    </tr>\n  </tbody>\n</table>\n</div>"
     },
     "metadata": {},
     "execution_count": 6
    }
   ],
   "source": [
    "actors = df_desired_names.head(30)\n",
    "# actors = df_desired_names.head(10)\n",
    "actors.head()"
   ]
  },
  {
   "cell_type": "code",
   "execution_count": 7,
   "metadata": {},
   "outputs": [],
   "source": [
    "headers = {\n",
    "    'Access-Control-Allow-Origin': '*',\n",
    "    'Access-Control-Allow-Methods': 'GET',\n",
    "    'Access-Control-Allow-Headers': 'Content-Type',\n",
    "    'Access-Control-Max-Age': '3600',\n",
    "    'User-Agent': 'Mozilla/5.0 (X11; Ubuntu; Linux x86_64; rv:52.0) Gecko/20100101 Firefox/52.0'\n",
    "    }\n",
    "## TODO change desired_var to desired lookup string, ethnicity to lookup var\n",
    "ethnicity = []\n",
    "desired_var = \"ethnicity\"\n"
   ]
  },
  {
   "source": [
    "### Step 3: Using a specific website. \n",
    "Using nndb to grab ethnicity. Since this website displays an array of other persons when searching, we will store the desired link to the actual person and then perform a second loop to scrape the wanted variable.\n",
    "\n",
    "Example: searching for Carrie Fisher yields me a list of other names. I want the link to her nndb profile so I print all the available links.\n",
    " Using the inspect tool on Chrome shows me that the hyperlink I want is http://www.nndb.com/people/899/000022833/ or the 3rd link.\n",
    "The first 5 links. \n",
    ">http://www.nndb.com/\n",
    "\n",
    ">http://search.nndb.com/search/nndb.cgi?n=Carrie+Fisher&omenu=unspecified&offset=20\n",
    "\n",
    ">http://www.nndb.com/people/899/000022833/  <- the one we want\n",
    "\n",
    ">http://www.nndb.com/people/419/000109092/\n",
    "\n",
    ">http://www.nndb.com/people/023/000101717/\n"
   ],
   "cell_type": "markdown",
   "metadata": {}
  },
  {
   "cell_type": "code",
   "execution_count": 8,
   "metadata": {
    "tags": []
   },
   "outputs": [
    {
     "output_type": "stream",
     "name": "stdout",
     "text": [
      "Carrie+Fisher\n",
      "<a href=\"http://www.nndb.com/people/899/000022833/\">Carrie Fisher</a>\n",
      "actorlink= http://www.nndb.com/people/899/000022833/\n",
      "Glenson+Chatman\n",
      "actorlink= -1\n",
      "Glendon+Chatman\n",
      "<a href=\"http://www.nndb.com/people/978/000173459/\">Mary Ann Glendon</a>\n",
      "<a href=\"http://commentary.nndb.com/submit/feedback/\">Make a comment</a>\n",
      "actorlink= -1\n"
     ]
    }
   ],
   "source": [
    "# I test my initial functions on a small list of queries\n",
    "queries =[ 'Carrie Fisher','Glenson Chatman','Glendon Chatman']\n",
    "#            many results |   no results    |   two results\n",
    "for name in queries:\n",
    "    query = name.replace(' ', '+')\n",
    "    URL = f\"http://search.nndb.com/search/nndb.cgi?nndb=1&omenu=unspecified&query={query}\"\n",
    "    resp = requests.get(URL,headers)\n",
    "    if resp.status_code == 200:\n",
    "        soup = BeautifulSoup(resp.content, \"html.parser\")\n",
    "        print(query)\n",
    "        actorLink = '-1'\n",
    "        for ind, link in enumerate(soup.findAll('a')[2:]):\n",
    "            print(link) \n",
    "            if link.text == name :\n",
    "                actorLink = link.get('href')\n",
    "                break\n",
    "        print('actorlink=',actorLink)\n",
    "# firstFiveLinks = ['\\n'+ i.get('href') for i in soup.findAll('a')[:5]]\n",
    "# print(*firstFiveLinks)"
   ]
  },
  {
   "source": [
    "### Step 3: cont'd\n",
    "\n",
    "Using BS4 we're going to make 2 requests to the website per name in the dataframe. The first one to find their actual profile and a second request to grab all their data.\n",
    "\n",
    "We will use a dictionary to store the information, this will make dataframe conversion easier. If the person does not exist on the first request, we will set their dictionary entry to '-1'.\n",
    "\n",
    "We don't want to do any data cleanup yet, a dataframe with more than 1000 entries will slow down our performance if it has to do multiple requests and cleanup.\n"
   ],
   "cell_type": "markdown",
   "metadata": {}
  },
  {
   "cell_type": "code",
   "execution_count": 30,
   "metadata": {
    "tags": []
   },
   "outputs": [],
   "source": [
    "i =0\n",
    "links = {}\n",
    "ethnDb = {}\n",
    "start = time.time()\n",
    "def scrapeWebsite(actors, ethnDb):\n",
    "    for name in actors['name']:\n",
    "        query = name\n",
    "        query = query.replace(' ', '+')\n",
    "        URL = f\"http://search.nndb.com/search/nndb.cgi?nndb=1&omenu=unspecified&query={query}\"\n",
    "        print(name)\n",
    "        resp = requests.get(URL,headers)\n",
    "        if resp.status_code == 200:\n",
    "            soup = BeautifulSoup(resp.content, \"html.parser\")\n",
    "            # Usually 3rd link but if name DNE or we less than 3 results we don't want a list index error\n",
    "            links[name] = '-1'\n",
    "            for ind, link in enumerate(soup.findAll('a')[2:]):\n",
    "                print(link) \n",
    "                if link.text == name :\n",
    "                    links[name] = link.get('href')\n",
    "                    break\n",
    "            print(links[name])\n",
    "            if links[name] != '-1':\n",
    "                resp2 = requests.get(links[name])\n",
    "                if resp2.status_code == 200:\n",
    "                    soup = BeautifulSoup(resp2.content,'html.parser')\n",
    "                    infoP = ''\n",
    "                    for ind,text in enumerate(soup.findAll('p')):\n",
    "                        # print(text.find('b',text=\"Race\"))\n",
    "                        # print(f'P {ind}:',text)\n",
    "                        if 'or Ethnicity' in text.text:\n",
    "                            infoP = text.text\n",
    "                            # print(infoP)\n",
    "                            break\n",
    "                    # we clean up this line of text later\n",
    "                    actorInfo = (infoP)\n",
    "                    ethnDb[name] = actorInfo\n",
    "            else:\n",
    "                ethnDb[name] = '-1'\n",
    "\n",
    "        \n",
    "        sleep(0.5)\n",
    "\n",
    "scrapeWebsite(actors, ethnDb)\n",
    "end = time.time()\n",
    "# print(end-start)\n",
    "# 52 seconds for one loop\n",
    "# _34_ seconds for 2 website request, 30 names\n",
    "# ___ seconds for 2 for loops"
   ]
  },
  {
   "cell_type": "code",
   "execution_count": 10,
   "metadata": {},
   "outputs": [
    {
     "output_type": "stream",
     "name": "stdout",
     "text": [
      "FINISHED\n24.704447984695435\n"
     ]
    }
   ],
   "source": [
    "print('FINISHED')\n",
    "print(end-start)"
   ]
  },
  {
   "source": [
    "### Step 4: Append new data to existing dataframe.\n",
    "First I convert my ethnDb dictionary into a dataframe and join it to actors on the name variable.\n",
    "Then I reset the index on actors to name."
   ],
   "cell_type": "markdown",
   "metadata": {}
  },
  {
   "cell_type": "code",
   "execution_count": 11,
   "metadata": {},
   "outputs": [
    {
     "output_type": "execute_result",
     "data": {
      "text/plain": [
       "                 imdb_name_id         dob                            pob  \\\n",
       "name                                                                       \n",
       "Jennifer Aniston    nm0000098  1969-02-11  Sherman Oaks, California, USA   \n",
       "Fairuza Balk        nm0000103  1974-05-21   Point Reyes, California, USA   \n",
       "Drew Barrymore      nm0000106  1975-02-22   Culver City, California, USA   \n",
       "Nicolas Cage        nm0000115  1964-01-07    Long Beach, California, USA   \n",
       "Kevin Costner       nm0000126  1955-01-18       Lynwood, California, USA   \n",
       "\n",
       "                                                                bio  \\\n",
       "name                                                                  \n",
       "Jennifer Aniston  Jennifer Aniston was born in Sherman Oaks, Cal...   \n",
       "Fairuza Balk      \"Fairuza!\" (\"Turquoise\" in Farsi), her father ...   \n",
       "Drew Barrymore    Since melting audiences' hearts - at the age o...   \n",
       "Nicolas Cage      Nicolas Cage was born Nicolas Kim Coppola in L...   \n",
       "Kevin Costner     Kevin Michael Costner was born on January 18, ...   \n",
       "\n",
       "                                                                  0  \n",
       "name                                                                 \n",
       "Jennifer Aniston  Born: 11-Feb-1969Birthplace: Sherman Oaks, CAG...  \n",
       "Fairuza Balk      AKA Fairuza Alejandra BalkBorn: 21-May-1974Bir...  \n",
       "Drew Barrymore    AKA Drew Blyth BarrymoreBorn: 22-Feb-1975Birth...  \n",
       "Nicolas Cage      AKA Nicolas Kim CoppolaBorn: 7-Jan-1964Birthpl...  \n",
       "Kevin Costner     AKA Kevin Michael CostnerBorn: 18-Jan-1955Birt...  "
      ],
      "text/html": "<div>\n<style scoped>\n    .dataframe tbody tr th:only-of-type {\n        vertical-align: middle;\n    }\n\n    .dataframe tbody tr th {\n        vertical-align: top;\n    }\n\n    .dataframe thead th {\n        text-align: right;\n    }\n</style>\n<table border=\"1\" class=\"dataframe\">\n  <thead>\n    <tr style=\"text-align: right;\">\n      <th></th>\n      <th>imdb_name_id</th>\n      <th>dob</th>\n      <th>pob</th>\n      <th>bio</th>\n      <th>0</th>\n    </tr>\n    <tr>\n      <th>name</th>\n      <th></th>\n      <th></th>\n      <th></th>\n      <th></th>\n      <th></th>\n    </tr>\n  </thead>\n  <tbody>\n    <tr>\n      <th>Jennifer Aniston</th>\n      <td>nm0000098</td>\n      <td>1969-02-11</td>\n      <td>Sherman Oaks, California, USA</td>\n      <td>Jennifer Aniston was born in Sherman Oaks, Cal...</td>\n      <td>Born: 11-Feb-1969Birthplace: Sherman Oaks, CAG...</td>\n    </tr>\n    <tr>\n      <th>Fairuza Balk</th>\n      <td>nm0000103</td>\n      <td>1974-05-21</td>\n      <td>Point Reyes, California, USA</td>\n      <td>\"Fairuza!\" (\"Turquoise\" in Farsi), her father ...</td>\n      <td>AKA Fairuza Alejandra BalkBorn: 21-May-1974Bir...</td>\n    </tr>\n    <tr>\n      <th>Drew Barrymore</th>\n      <td>nm0000106</td>\n      <td>1975-02-22</td>\n      <td>Culver City, California, USA</td>\n      <td>Since melting audiences' hearts - at the age o...</td>\n      <td>AKA Drew Blyth BarrymoreBorn: 22-Feb-1975Birth...</td>\n    </tr>\n    <tr>\n      <th>Nicolas Cage</th>\n      <td>nm0000115</td>\n      <td>1964-01-07</td>\n      <td>Long Beach, California, USA</td>\n      <td>Nicolas Cage was born Nicolas Kim Coppola in L...</td>\n      <td>AKA Nicolas Kim CoppolaBorn: 7-Jan-1964Birthpl...</td>\n    </tr>\n    <tr>\n      <th>Kevin Costner</th>\n      <td>nm0000126</td>\n      <td>1955-01-18</td>\n      <td>Lynwood, California, USA</td>\n      <td>Kevin Michael Costner was born on January 18, ...</td>\n      <td>AKA Kevin Michael CostnerBorn: 18-Jan-1955Birt...</td>\n    </tr>\n  </tbody>\n</table>\n</div>"
     },
     "metadata": {},
     "execution_count": 11
    }
   ],
   "source": [
    "\n",
    "df_eth = pd.DataFrame.from_dict(ethnDb,orient='index')\n",
    "actors = actors.join(df_eth, on='name')\n",
    "actors =actors.set_index('name')\n",
    "actors.head()"
   ]
  },
  {
   "cell_type": "code",
   "execution_count": 12,
   "metadata": {},
   "outputs": [
    {
     "output_type": "execute_result",
     "data": {
      "text/plain": [
       "                 imdb_name_id         dob                            pob  \\\n",
       "name                                                                       \n",
       "Jennifer Aniston    nm0000098  1969-02-11  Sherman Oaks, California, USA   \n",
       "Fairuza Balk        nm0000103  1974-05-21   Point Reyes, California, USA   \n",
       "Drew Barrymore      nm0000106  1975-02-22   Culver City, California, USA   \n",
       "Nicolas Cage        nm0000115  1964-01-07    Long Beach, California, USA   \n",
       "Kevin Costner       nm0000126  1955-01-18       Lynwood, California, USA   \n",
       "\n",
       "                                                                bio  \\\n",
       "name                                                                  \n",
       "Jennifer Aniston  Jennifer Aniston was born in Sherman Oaks, Cal...   \n",
       "Fairuza Balk      \"Fairuza!\" (\"Turquoise\" in Farsi), her father ...   \n",
       "Drew Barrymore    Since melting audiences' hearts - at the age o...   \n",
       "Nicolas Cage      Nicolas Cage was born Nicolas Kim Coppola in L...   \n",
       "Kevin Costner     Kevin Michael Costner was born on January 18, ...   \n",
       "\n",
       "                                                      raw_ethnicity  \n",
       "name                                                                 \n",
       "Jennifer Aniston  Born: 11-Feb-1969Birthplace: Sherman Oaks, CAG...  \n",
       "Fairuza Balk      AKA Fairuza Alejandra BalkBorn: 21-May-1974Bir...  \n",
       "Drew Barrymore    AKA Drew Blyth BarrymoreBorn: 22-Feb-1975Birth...  \n",
       "Nicolas Cage      AKA Nicolas Kim CoppolaBorn: 7-Jan-1964Birthpl...  \n",
       "Kevin Costner     AKA Kevin Michael CostnerBorn: 18-Jan-1955Birt...  "
      ],
      "text/html": "<div>\n<style scoped>\n    .dataframe tbody tr th:only-of-type {\n        vertical-align: middle;\n    }\n\n    .dataframe tbody tr th {\n        vertical-align: top;\n    }\n\n    .dataframe thead th {\n        text-align: right;\n    }\n</style>\n<table border=\"1\" class=\"dataframe\">\n  <thead>\n    <tr style=\"text-align: right;\">\n      <th></th>\n      <th>imdb_name_id</th>\n      <th>dob</th>\n      <th>pob</th>\n      <th>bio</th>\n      <th>raw_ethnicity</th>\n    </tr>\n    <tr>\n      <th>name</th>\n      <th></th>\n      <th></th>\n      <th></th>\n      <th></th>\n      <th></th>\n    </tr>\n  </thead>\n  <tbody>\n    <tr>\n      <th>Jennifer Aniston</th>\n      <td>nm0000098</td>\n      <td>1969-02-11</td>\n      <td>Sherman Oaks, California, USA</td>\n      <td>Jennifer Aniston was born in Sherman Oaks, Cal...</td>\n      <td>Born: 11-Feb-1969Birthplace: Sherman Oaks, CAG...</td>\n    </tr>\n    <tr>\n      <th>Fairuza Balk</th>\n      <td>nm0000103</td>\n      <td>1974-05-21</td>\n      <td>Point Reyes, California, USA</td>\n      <td>\"Fairuza!\" (\"Turquoise\" in Farsi), her father ...</td>\n      <td>AKA Fairuza Alejandra BalkBorn: 21-May-1974Bir...</td>\n    </tr>\n    <tr>\n      <th>Drew Barrymore</th>\n      <td>nm0000106</td>\n      <td>1975-02-22</td>\n      <td>Culver City, California, USA</td>\n      <td>Since melting audiences' hearts - at the age o...</td>\n      <td>AKA Drew Blyth BarrymoreBorn: 22-Feb-1975Birth...</td>\n    </tr>\n    <tr>\n      <th>Nicolas Cage</th>\n      <td>nm0000115</td>\n      <td>1964-01-07</td>\n      <td>Long Beach, California, USA</td>\n      <td>Nicolas Cage was born Nicolas Kim Coppola in L...</td>\n      <td>AKA Nicolas Kim CoppolaBorn: 7-Jan-1964Birthpl...</td>\n    </tr>\n    <tr>\n      <th>Kevin Costner</th>\n      <td>nm0000126</td>\n      <td>1955-01-18</td>\n      <td>Lynwood, California, USA</td>\n      <td>Kevin Michael Costner was born on January 18, ...</td>\n      <td>AKA Kevin Michael CostnerBorn: 18-Jan-1955Birt...</td>\n    </tr>\n  </tbody>\n</table>\n</div>"
     },
     "metadata": {},
     "execution_count": 12
    }
   ],
   "source": [
    "actors =actors.rename(columns={0:'raw_ethnicity'})\n",
    "actors.head()"
   ]
  },
  {
   "source": [
    "### Step 5: More data cleanup\n",
    "Unfortunately, this website is not formatted consistently and does not use names to distinguish tags.\n",
    "We'll have to use a combination of regex and NLTK to clean up our data.\n",
    "\n",
    "We can print out 2 rows to see what data is stored in the 'raw_ethnicity' column. \n",
    "We can see that our desired data is either nested in between \"Religion\" and \"Sexual Orientation\" or between \"Gender\" and some other random word.\n",
    "There are also some relevant keywords near the bottom of the page."
   ],
   "cell_type": "markdown",
   "metadata": {}
  },
  {
   "cell_type": "code",
   "execution_count": 13,
   "metadata": {},
   "outputs": [
    {
     "output_type": "stream",
     "name": "stdout",
     "text": [
      "AKA Val Edward KilmerBorn: 31-Dec-1959Birthplace: Los Angeles, CAGender: MaleReligion: Christian ScienceRace or Ethnicity: WhiteSexual orientation: StraightOccupation: ActorNationality: United StatesExecutive summary: Real GeniusGirlfriend: Mare WinninghamGirlfriend: CherGirlfriend: Ellen Barkin (dated 1984)Wife: Joanne Whalley (actress, m. 28-Feb-1988, div. 1996, one daughter, one son)Daughter: Mercedes (b. 1992)Son: Jack (b. 1995)Girlfriend: Michelle PfeifferGirlfriend: Cindy Crawford (dated 1996)Girlfriend: Jaycee Gossett (dated 1998-2000)Girlfriend: Daryl Hannah (dated 2001-02)Girlfriend: Elisabeth Shue (uncertain)Girlfriend: Angelina Jolie (uncertain)    High School: Chatsworth High School, Chatsworth, CA (1977)    Cherokee Ancestry \n    Risk Factors: Smoking\n\n    FILMOGRAPHY AS ACTOR    The Super (14-Oct-2017)     The Snowman (7-Oct-2017)     Song to Song (10-Mar-2017)     The Spoils of Babylon (9-Jan-2014)     Palo Alto (29-Aug-2013)     Planes (9-Aug-2013) [VOICE]    Riddle (10-Jan-2013)     Standing Up (2013)     Seven Below (17-Apr-2012)     Breathless (4-Jan-2012)     Twixt (11-Sep-2011)     Blood Out (26-Apr-2011)     5 Days of War (14-Apr-2011) · Dutchman    Kill the Irishman (11-Mar-2011) · Joe Manditski    Gun (30-Jul-2010) · Angel    The Traveler (Jun-2010)     MacGruber (15-Mar-2010) · Cunth    Bloodworth (6-Feb-2010)     Fake Identity (12-Jan-2010)     Hardwired (3-Nov-2009) · Virgil    Bad Lieutenant: Port of Call, New Orleans (4-Sep-2009) · Stevie Pruit    The Thaw (30-Aug-2009) · Dr. Kruipen    American Cowslip (24-Jul-2009) · Sheriff Todd Inglebrink    Streets of Blood (7-Jul-2009) · Andy    The Steam Experiment (1-Mar-2009) · Jimmy    2:22 (24-Sep-2008) · Maz    Felon (13-Jul-2008) · John Smith    Delgo (17-Apr-2008) · Bogardus [VOICE]    Conspiracy (15-Feb-2008)     Comanche Moon (8-Jan-2008)     Columbus Day (2008)     Have Dreams, Will Travel (21-May-2007)     Deja Vu (20-Nov-2006)     Summer Love (5-Sep-2006) · Wanted Man    10th & Wolf (21-Apr-2006)     Moscow Zero (13-Feb-2006)     Kiss Kiss, Bang Bang (14-May-2005) · Gay Perry    Trudell (20-Jan-2005) · Himself    Alexander (5-Nov-2004)     Mindhunters (19-Mar-2004) · Jake Harris    Blind Horizon (2-Mar-2004) · Frank Kavanaugh    Stateside (27-Feb-2004) · Staff Sgt. Skeer    Spartan (31-Jan-2004)     The Missing (26-Nov-2003) · Lt. Jim Ducharme    Wonderland (8-Sep-2003) · John Holmes    Masked and Anonymous (22-Jan-2003) · Animal Wrangler    The Salton Sea (23-Apr-2002) · Danny    Hard Cash (15-Feb-2002)     Red Planet (6-Nov-2000) · Robby Gallagher    Pollock (6-Sep-2000) · Willem DeKooning    Joe the King (22-Jan-1999) · Bob    At First Sight (12-Jan-1999) · Virgil Adamson    The Prince of Egypt (16-Dec-1998) · Moses [VOICE]    The Saint (4-Apr-1997) · Simon Templar    The Ghost and the Darkness (11-Oct-1996) · John Patterson    The Island of Dr. Moreau (23-Aug-1996) · Montgomery    Heat (15-Dec-1995) · Chris Shiherlis    Batman Forever (16-Jun-1995) · Batman    Wings of Courage (21-Apr-1995) · Jean Mermoz    Tombstone (25-Dec-1993) · Doc Holliday    The Real McCoy (10-Sep-1993) · J. T. Barker    True Romance (10-Sep-1993)     Thunderheart (3-Apr-1992) · Ray Levoi    The Doors (1-Mar-1991)     Kill Me Again (27-Oct-1989) · Jack Andrews    Billy the Kid (10-May-1989)     Willow (20-May-1988)     The Man Who Broke 1,000 Chains (31-Oct-1987)     The Murders in the Rue Morgue (7-Dec-1986) · Phillipe    Top Gun (16-May-1986) · Ice    Real Genius (7-Aug-1985)     Top Secret! (8-Jun-1984) \nOfficial Website:http://www.valkilmer.com/\n\n\n\n\nNew!\nNNDB MAPPER\nCreate a map starting with\n\n\nVal Kilmer\n\n\nRequires Flash 7+ and Javascript.\n\nDo you know something we don't?\nSubmit a correction or make a comment about this profile\n\nCopyright ©2019 Soylent Communications\n AKA Jennifer Ellen ChanBorn: 16-Sep-1958Birthplace: Harbor City, CAGender: FemaleRace or Ethnicity: MultiracialSexual orientation: StraightOccupation: ActorNationality: United StatesExecutive summary: Bound, Monsters, Inc.Born Jennifer Chan, her father was Chinese-American, but considered himself just another American. She was raised in western Canada after the age of 5, when her parents divorced and her mother re-married a hippie. She studied drama at a tiny college in Missouri, then sold sandwiches in Los Angeles area office buildings while waiting to break into acting. Tilly was Oscar-nominated for playing a ditzy moll in Woody Allen's Bullets Over Broadway. She has said Allen's only direction was that her character was never supposed to stop talking, even when she was in the background. Her incessant chatter wasn't scripted, so Tilly was supposed to improvise, and when her improvising ran dry she was scolded by Allen: \"Don't let that happen again.\"\nFather: Harry Chan (used car salesman)Mother: Patrica Tilly (school teacher)Father: John Ward (stepfather, hippie)Sister: Meg Tilly (actress, b. 14-Feb-1960)Boyfriend: Lou Diamond Phillips (actor, dated 1992)Husband: Sam Simon (producer, m. 1984, div. 1991)Boyfriend: Dodd Mitchell (restaurant designer, together 2003)Boyfriend: Phil Laak (poker player, together since 2004)    High School: Belmont High School, Victoria, British Columbia, Canada (1976)    University: Stephens College, Columbia, MO    Friends of Hillary     Chinese Ancestry \n    Risk Factors: Smoking\n\n    TELEVISION    Out of Practice Crystal (2005-06)    Family Guy Bonnie Swanson (1999-)    Key West Savannah Sumner (1993)    Hill Street Blues Gina Srignoli (1984-85)\n    FILMOGRAPHY AS ACTOR    Cult of Chucky (24-Aug-2017)     Curse of Chucky (2-Aug-2013)     Empire of Silver (12-Feb-2009)     Return to Babylon (31-Oct-2008)     Bart Got a Room (25-Apr-2008) · Melinda    The Caretaker (14-Feb-2008)     Deal (29-Jan-2008)     The Initiation of Sarah (22-Oct-2006)     Tideland (9-Sep-2005)     The Civilization of Maxwell Bright (6-Jun-2005) · Dr. O'Shannon    Lil' Pimp (11-Jan-2005) [VOICE]    Bailey's Billion$ (2005)     Seed of Chucky (12-Nov-2004) · Tiffany    Love on the Side (30-Sep-2004) · Alma    Saint Ralph (11-Sep-2004) · Nurse Alice    Home on the Range (21-Mar-2004) [VOICE]    Second Best (16-Jan-2004)     Nowhere to Go But Up (24-Dec-2003)     The Haunted Mansion (26-Nov-2003) · Mme. Leota    Hollywood North (18-May-2003)     Jericho Mansions (17-May-2003)     The Magnificent Ambersons (13-Jan-2002)     Monsters, Inc. (28-Oct-2001) [VOICE]    The Cat's Meow (3-Aug-2001) · Louella Parsons    Fast Sofa (15-Jun-2001) · Ginger Quail    Sister Mary Explains It All (27-May-2001) · Philomena Rostovich    Dumber than Dirt (22-Apr-2001)     Relative Evil (2001)     Dancing at the Blue Iguana (14-Sep-2000) · Jo    The Crew (21-Aug-2000) · Ferris \"aka Maureen\" Lowenstein    Cord (23-May-2000) · Helen    The Dress Code (16-Apr-2000) · Delores Tucci    Play It to the Bone (25-Dec-1999)     Stuart Little (5-Dec-1999) · Voice of Mrs. Stout [VOICE]    Bartok the Magnificent (16-Nov-1999) [VOICE]    Do Not Disturb (4-Nov-1999) · Cathryn    Goosed (28-Sep-1999)     The Muse (27-Aug-1999) · Herself    Music From Another Room (12-Nov-1998)     Bride of Chucky (15-Oct-1998) · Tiffany    Hoods (5-Aug-1998) · Mary    Relax... It's Just Sex (10-Jun-1998)     Bella Mafia (16-Nov-1997)     The Wrong Guy (1-Aug-1997)     Edie & Pen (6-Apr-1997)     Liar Liar (21-Mar-1997) · Samantha Cole    American Strays (13-Sep-1996)     Bound (7-Sep-1996)     House Arrest (14-Aug-1996)     The Pompatus of Love (26-Jul-1996)     Man with a Gun (9-Oct-1995)     Bird of Prey (14-Sep-1995)     Embrace of the Vampire (30-May-1995)     Bullets Over Broadway (16-Sep-1994)     The Getaway (11-Feb-1994) · Fran Carvey    Double Cross (1994)     Made in America (28-May-1993) · Stacy    At Home with the Webbers (1993) · Miranda Webber    Shadow of the Wolf (12-Nov-1992)     Scorchers (6-Sep-1991)     The Fabulous Baker Boys (13-Oct-1989) · Monica Moran    Let It Ride (18-Aug-1989) · Vicki    Far from Home (30-Jun-1989) · Amy    High Spirits (18-Nov-1988)     Rented Lips (1-Jul-1988)     Johnny Be Good (25-Mar-1988) · Connie Hisler    He's My Girl (11-Sep-1987)     Remote Control (1987)     Inside Out (1-Nov-1986) · Amy    Moving Violations (19-Apr-1985) · Amy Hopkins    No Small Affair (9-Nov-1984) · Mona\n\n\n\n\nNew!\nNNDB MAPPER\nCreate a map starting with\n\n\nJennifer Tilly\n\n\nRequires Flash 7+ and Javascript.\n\nDo you know something we don't?\nSubmit a correction or make a comment about this profile\n\nCopyright ©2019 Soylent Communications\n\n"
     ]
    }
   ],
   "source": [
    "exampleStr1 = actors.loc['Val Kilmer', 'raw_ethnicity']\n",
    "exampleStr2 = actors.loc['Jennifer Tilly','raw_ethnicity']\n",
    "print(exampleStr1,exampleStr2)\n"
   ]
  },
  {
   "source": [
    "### Contd:\n",
    "We make 2 functions, one to clean the word from strays and whitespace.\n",
    "The other uses sent_tokenize and word_tokenize to split strings by sentence or words. I also use stopwords.words() to remove filler words such as 'i', 'he', etc.\n",
    "\n",
    "TO show off some of the function re-writes I had to do, here is the 2nd version of clean data. Using split was very unreliable as I soon learned that the website entries were not formatted consistently. Some of my 'clean' entries were completely wrong."
   ],
   "cell_type": "markdown",
   "metadata": {}
  },
  {
   "cell_type": "code",
   "execution_count": 14,
   "metadata": {},
   "outputs": [],
   "source": [
    "# version 2\n",
    "def version2(s):\n",
    "    ethnicities = []\n",
    "    sentences = nltk.sent_tokenize(s)\n",
    "    lessWord = [s for s in sentences if not s in stopwords.words()]\n",
    "    # the data we needed wouldn't always be before Sexual Orientation\n",
    "    part1 = lessWord[0].split(' orientation')[0].split('Ethnicity:')[-1]\n",
    "    ancestry = ''\n",
    "    for sent in lessWord:\n",
    "        if 'Ancestry' in sent:\n",
    "            ancestry = sent\n",
    "            break\n",
    "    ancestry = ancestry.split('Risk')[0]\n",
    "    ancestry = ancestry.split(\"\\xa0 \\xa0 \")\n",
    "    if len(ancestry[-1]) > 0:\n",
    "        ancestry = ancestry[-1]\n",
    "    else:\n",
    "        ancestry = ancestry[-2]\n",
    "    \n",
    "    ethnicities.append(cleanWord(part1))\n",
    "    ethnicities.append(cleanWord(ancestry))\n",
    "    return ethnicities"
   ]
  },
  {
   "cell_type": "code",
   "execution_count": 21,
   "metadata": {},
   "outputs": [],
   "source": [
    "\n",
    "def cleanWord(s):\n",
    "    if len(s) <2:\n",
    "        return s\n",
    "    removeWhite = s.strip()\n",
    "    removeWhite = removeWhite.replace('Sexual','')\n",
    "    removeWhite = removeWhite.replace('Ancestry','')\n",
    "    removeWhite = removeWhite.replace('Race or Ethnicity:','')\n",
    "    # print(removeWhite)\n",
    "    return(removeWhite.strip())"
   ]
  },
  {
   "source": [
    "### Step 5 cont'd:\n",
    "To make your own regex, you can use regex101.com."
   ],
   "cell_type": "markdown",
   "metadata": {}
  },
  {
   "cell_type": "code",
   "execution_count": 22,
   "metadata": {},
   "outputs": [],
   "source": [
    "def cleanData(s):\n",
    "    if s == '-1':\n",
    "        return s\n",
    "    ethnicities = []\n",
    "    sentences = nltk.sent_tokenize(s)\n",
    "    lessWord = [s for s in sentences if not s in stopwords.words()]\n",
    "\n",
    "    regex1 = re.compile(r'Race or Ethnicity: [A-Z]([a-z])*')\n",
    "    regex2 = re.compile(r'[A-Z]([a-z])* Ancestry')\n",
    "\n",
    "    part1 = re.finditer(regex1,lessWord[0])\n",
    "    for match in part1:\n",
    "        ethnicities.append(cleanWord(match.group()))\n",
    "    ancestry = ''\n",
    "    for sent in lessWord:\n",
    "        if 'Ancestry' in sent:\n",
    "            ancestry = sent\n",
    "            break\n",
    "    matches = re.finditer(regex2, ancestry)\n",
    "    for match in matches:\n",
    "        ethnicities.append(cleanWord(match.group()))\n",
    "    \n",
    "    # ethnicities.append(cleanWord(part1))\n",
    "    # ethnicities.append(cleanWord(ancestry))\n",
    "    return ethnicities\n",
    "# tokenWords(exampleStr2)"
   ]
  },
  {
   "source": [
    "### Step 5: Con't\n",
    "Now we do this to all strings in the ethnicity column. It's easier to convert into a function and apply it to the dataframe.\n",
    "\n",
    "I like to make a copy of the results in case I want to alter my functions.\n"
   ],
   "cell_type": "markdown",
   "metadata": {}
  },
  {
   "cell_type": "code",
   "execution_count": 23,
   "metadata": {},
   "outputs": [
    {
     "output_type": "execute_result",
     "data": {
      "text/plain": [
       "name\n",
       "Jennifer Aniston                        [White, Greek]\n",
       "Fairuza Balk                                   [White]\n",
       "Drew Barrymore                      [White, Hungarian]\n",
       "Nicolas Cage                                   [White]\n",
       "Kevin Costner                   [White, German, Irish]\n",
       "Jamie Lee Curtis                               [White]\n",
       "Bo Derek                                       [White]\n",
       "Leonardo DiCaprio                                   -1\n",
       "Cameron Diaz           [White, Cuban, English, German]\n",
       "Erika Eleniak                                       -1\n",
       "Jodie Foster                                   [White]\n",
       "Gina Gershon           [White, French, Russian, Dutch]\n",
       "Tom Hanks                                      [White]\n",
       "Teri Hatcher                                   [White]\n",
       "Ethan Hawke                                    [White]\n",
       "Helen Hunt                             [White, Jewish]\n",
       "Ashley Judd                           [White, Italian]\n",
       "Val Kilmer                           [White, Cherokee]\n",
       "Heather Locklear                     [White, Scottish]\n",
       "Matthew McConaughey                            [White]\n",
       "Bill Paxton                                    [White]\n",
       "Michelle Pfeiffer                              [White]\n",
       "Tim Robbins                                    [White]\n",
       "Joan Severance                                 [White]\n",
       "Alicia Silverstone                             [White]\n",
       "Jennifer Tilly                  [Multiracial, Chinese]\n",
       "Renée Zellweger                                     -1\n",
       "Ben Affleck                   [White, Irish, Scottish]\n",
       "Sean Astin                                     [White]\n",
       "Michelle Bauer                                 [White]\n",
       "Name: raw_ethnicity, dtype: object"
      ]
     },
     "metadata": {},
     "execution_count": 23
    }
   ],
   "source": [
    "copy = actors['raw_ethnicity'].apply(cleanData)\n",
    "copy"
   ]
  },
  {
   "cell_type": "code",
   "execution_count": 28,
   "metadata": {},
   "outputs": [
    {
     "output_type": "execute_result",
     "data": {
      "text/plain": [
       "array(['White', 'Greek', 'Hungarian', 'German', 'Irish', '-1', 'Cuban',\n",
       "       'English', 'French', 'Russian', 'Dutch', 'Jewish', 'Italian',\n",
       "       'Cherokee', 'Scottish', 'Multiracial', 'Chinese'], dtype=object)"
      ]
     },
     "metadata": {},
     "execution_count": 28
    }
   ],
   "source": [
    "# to view all our unique values, we use unique but we add explode() because our data type is a list.\n",
    "copy.explode().unique() "
   ]
  },
  {
   "source": [
    "### Step 6: Additional Cleanup \n",
    "\n",
    "I want to see which rows have a -1 value.\n",
    "Since Leonardo DiCaprio is a famous name, I know that he must have a page that wasn't properly requested.\n"
   ],
   "cell_type": "markdown",
   "metadata": {}
  },
  {
   "cell_type": "code",
   "execution_count": 65,
   "metadata": {},
   "outputs": [
    {
     "output_type": "execute_result",
     "data": {
      "text/plain": [
       "name\n",
       "Leonardo DiCaprio    -1\n",
       "Erika Eleniak        -1\n",
       "Renée Zellweger      -1\n",
       "Name: raw_ethnicity, dtype: object"
      ]
     },
     "metadata": {},
     "execution_count": 65
    }
   ],
   "source": [
    "copy.loc[copy[:] == '-1']"
   ]
  },
  {
   "cell_type": "code",
   "execution_count": 72,
   "metadata": {},
   "outputs": [
    {
     "output_type": "stream",
     "name": "stdout",
     "text": [
      "Leonardo DiCaprio\n",
      "<a href=\"http://www.nndb.com/people/813/000029726/\">Leonardo Da Vinci</a>\n",
      "<a href=\"http://www.nndb.com/people/922/000095637/\">Leonardo Fibonacci</a>\n",
      "<a href=\"http://www.nndb.com/people/253/000282404/\">Leonardo Cimino</a>\n",
      "<a href=\"http://www.nndb.com/people/901/000163412/\">Bar Refaeli</a>\n",
      "<a href=\"http://www.nndb.com/people/971/000044839/\">Rocco DiSpirito</a>\n",
      "<a href=\"http://www.nndb.com/people/869/000089602/\">Leo von Caprivi</a>\n",
      "<a href=\"http://www.nndb.com/people/149/000170636/\">John H. Dasburg</a>\n",
      "<a href=\"http://www.nndb.com/people/931/000174409/\">John P. DesBarres</a>\n",
      "<a href=\"http://www.nndb.com/people/514/000092238/\">Camillo Benso di Cavour</a>\n",
      "<a href=\"http://www.nndb.com/people/611/000093332/\">Josquin Des Prez</a>\n",
      "<a href=\"http://www.nndb.com/people/401/000403189/\">Pierre de Coubertin</a>\n",
      "<a href=\"http://www.nndb.com/people/072/000130679/\">Michael Des Barres</a>\n",
      "<a href=\"http://www.nndb.com/people/487/000097196/\">Bonaventure des Périers</a>\n",
      "<a href=\"http://commentary.nndb.com/submit/feedback/\">Make a comment</a>\n",
      "-1\n",
      "Erika Eleniak\n",
      "<a href=\"http://www.nndb.com/people/185/000025110/\">Erika Christensen</a>\n",
      "<a href=\"http://www.nndb.com/people/010/000108683/\">Erika Alexander</a>\n",
      "<a href=\"http://www.nndb.com/people/754/000050604/\">Erika Slezak</a>\n",
      "<a href=\"http://www.nndb.com/people/439/000355371/\">E. L. James</a>\n",
      "<a href=\"http://www.nndb.com/people/243/000026165/\">Erykah Badu</a>\n",
      "<a href=\"http://www.nndb.com/people/509/000109182/\">Erica Durance</a>\n",
      "<a href=\"http://www.nndb.com/people/395/000024323/\">Erica Jong</a>\n",
      "<a href=\"http://www.nndb.com/people/451/000031358/\">Erica Gavin</a>\n",
      "<a href=\"http://www.nndb.com/people/029/000162540/\">Erica Hubbard</a>\n",
      "<a href=\"http://www.nndb.com/people/564/000350511/\">Erica Gimpel</a>\n",
      "<a href=\"http://www.nndb.com/people/087/000348040/\">Taylor Cole</a>\n",
      "<a href=\"http://www.nndb.com/people/798/000031705/\">Duke Ellington</a>\n",
      "<a href=\"http://www.nndb.com/people/604/000168100/\">Buford Ellington</a>\n",
      "<a href=\"http://commentary.nndb.com/submit/feedback/\">Make a comment</a>\n",
      "-1\n",
      "Renée Zellweger\n",
      "<a href=\"http://commentary.nndb.com/submit/feedback/\">Make a comment</a>\n",
      "-1\n"
     ]
    }
   ],
   "source": [
    "queries = pd.DataFrame(copy.loc[copy[:] == '-1'])\n",
    "queries.reset_index(level=0, inplace=True)\n",
    "scrapeWebsite(queries, ethnDb)"
   ]
  },
  {
   "source": [
    "### Step 7: last fixes (optional)\n",
    "We can see that because scrapeWebsite only looks at and after the 3rd <a>, it misses it's rightful link. \n",
    "We can either look at all <a> tags or start from the 2nd one.\n",
    "FIXED scrapeWebsite below.\n",
    "\n",
    "You can run this function on the rest of the queries."
   ],
   "cell_type": "markdown",
   "metadata": {}
  },
  {
   "cell_type": "code",
   "execution_count": 71,
   "metadata": {},
   "outputs": [
    {
     "output_type": "execute_result",
     "data": {
      "text/plain": [
       "                name raw_ethnicity\n",
       "0  Leonardo DiCaprio            -1\n",
       "1      Erika Eleniak            -1\n",
       "2    Renée Zellweger            -1"
      ],
      "text/html": "<div>\n<style scoped>\n    .dataframe tbody tr th:only-of-type {\n        vertical-align: middle;\n    }\n\n    .dataframe tbody tr th {\n        vertical-align: top;\n    }\n\n    .dataframe thead th {\n        text-align: right;\n    }\n</style>\n<table border=\"1\" class=\"dataframe\">\n  <thead>\n    <tr style=\"text-align: right;\">\n      <th></th>\n      <th>name</th>\n      <th>raw_ethnicity</th>\n    </tr>\n  </thead>\n  <tbody>\n    <tr>\n      <th>0</th>\n      <td>Leonardo DiCaprio</td>\n      <td>-1</td>\n    </tr>\n    <tr>\n      <th>1</th>\n      <td>Erika Eleniak</td>\n      <td>-1</td>\n    </tr>\n    <tr>\n      <th>2</th>\n      <td>Renée Zellweger</td>\n      <td>-1</td>\n    </tr>\n  </tbody>\n</table>\n</div>"
     },
     "metadata": {},
     "execution_count": 71
    }
   ],
   "source": [
    "def scrapeWebsiteFixed(actors, ethnDb):\r\n",
    "    for name in actors['name']:\r\n",
    "        query = name\r\n",
    "        query = query.replace(' ', '+')\r\n",
    "        URL = f\"http://search.nndb.com/search/nndb.cgi?nndb=1&omenu=unspecified&query={query}\"\r\n",
    "        print(name)\r\n",
    "        resp = requests.get(URL,headers)\r\n",
    "        if resp.status_code == 200:\r\n",
    "            soup = BeautifulSoup(resp.content, \"html.parser\")\r\n",
    "            # Usually 3rd link but if name DNE or we less than 3 results we don't want a list index error\r\n",
    "            links[name] = '-1'\r\n",
    "            for ind, link in enumerate(soup.findAll('a')[1:]):\r\n",
    "                print(link) \r\n",
    "                if link.text == name :\r\n",
    "                    links[name] = link.get('href')\r\n",
    "                    break\r\n",
    "            print(links[name])\r\n",
    "            if links[name] != '-1':\r\n",
    "                resp2 = requests.get(links[name])\r\n",
    "                if resp2.status_code == 200:\r\n",
    "                    soup = BeautifulSoup(resp2.content,'html.parser')\r\n",
    "                    infoP = ''\r\n",
    "                    for ind,text in enumerate(soup.findAll('p')):\r\n",
    "                        if 'or Ethnicity' in text.text:\r\n",
    "                            infoP = text.text\r\n",
    "                            # print(infoP)\r\n",
    "                            break\r\n",
    "                    # we clean up this line of text later\r\n",
    "                    actorInfo = (infoP)\r\n",
    "                    ethnDb[name] = actorInfo\r\n",
    "            else:\r\n",
    "                ethnDb[name] = '-1'\r\n",
    "\r\n",
    "        \r\n",
    "        sleep(0.5)\r\n"
   ]
  },
  {
   "cell_type": "code",
   "execution_count": null,
   "metadata": {},
   "outputs": [],
   "source": []
  },
  {
   "source": [
    "### Final Step: Add our edited dataframe"
   ],
   "cell_type": "markdown",
   "metadata": {}
  },
  {
   "cell_type": "code",
   "execution_count": 19,
   "metadata": {},
   "outputs": [
    {
     "output_type": "error",
     "ename": "NameError",
     "evalue": "name 'df2' is not defined",
     "traceback": [
      "\u001b[1;31m---------------------------------------------------------------------------\u001b[0m",
      "\u001b[1;31mNameError\u001b[0m                                 Traceback (most recent call last)",
      "\u001b[1;32m<ipython-input-19-3af336ba4fd3>\u001b[0m in \u001b[0;36m<module>\u001b[1;34m\u001b[0m\n\u001b[0;32m      1\u001b[0m \u001b[1;31m# export as csv in case work is lost\u001b[0m\u001b[1;33m\u001b[0m\u001b[1;33m\u001b[0m\u001b[1;33m\u001b[0m\u001b[0m\n\u001b[1;32m----> 2\u001b[1;33m \u001b[0mdf2\u001b[0m\u001b[1;33m.\u001b[0m\u001b[0mto_csv\u001b[0m\u001b[1;33m(\u001b[0m\u001b[1;34m'uncleanedData.csv'\u001b[0m\u001b[1;33m)\u001b[0m\u001b[1;33m\u001b[0m\u001b[1;33m\u001b[0m\u001b[0m\n\u001b[0m",
      "\u001b[1;31mNameError\u001b[0m: name 'df2' is not defined"
     ]
    }
   ],
   "source": [
    "# export as csv in case work is lost\n",
    "df2.to_csv('uncleanedData.csv')\n"
   ]
  }
 ],
 "metadata": {
  "kernelspec": {
   "name": "python385jvsc74a57bd0eb0546ed568dd95b4027fa1c00d8628f8e4642dd02946d35fdcca75bc94fcd61",
   "display_name": "Python 3.8.5 32-bit"
  },
  "language_info": {
   "codemirror_mode": {
    "name": "ipython",
    "version": 3
   },
   "file_extension": ".py",
   "mimetype": "text/x-python",
   "name": "python",
   "nbconvert_exporter": "python",
   "pygments_lexer": "ipython3",
   "version": "3.8.5"
  },
  "metadata": {
   "interpreter": {
    "hash": "63fd5069d213b44bf678585dea6b12cceca9941eaf7f819626cde1f2670de90d"
   }
  }
 },
 "nbformat": 4,
 "nbformat_minor": 4
}